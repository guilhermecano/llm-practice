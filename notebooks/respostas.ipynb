{
 "cells": [
  {
   "cell_type": "markdown",
   "metadata": {},
   "source": [
    "#### Guilherme Cano Lopes\n",
    "#### Candidato à vaga de cientista de dados da Anatel"
   ]
  },
  {
   "cell_type": "markdown",
   "metadata": {},
   "source": [
    "-------------------------"
   ]
  },
  {
   "cell_type": "markdown",
   "metadata": {},
   "source": [
    "### Exercício 1\n",
    "\n",
    "Suponha que você tenha uma base de dados contendo textos jurídicos, como decisões judiciais, \n",
    "petições e documentos legais. A base de dados inclui informações sobre o conteúdo do texto, data, \n",
    "jurisdição e outras informações relevantes. Seu objetivo é criar um sistema de recomendação que \n",
    "sugira textos jurídicos semelhantes a um texto de referência.\n",
    "\n",
    "Para todos os itens:  Informe as bibliotecas usadas, se necessário, o motivo de cada decisão, explore\n",
    "as possibilidades."
   ]
  },
  {
   "cell_type": "markdown",
   "metadata": {},
   "source": [
    "a. Descreva como você desenvolveria o sistema de recomendação que recebe um texto de \n",
    "referência e sugere os textos mais semelhantes a ele na base de dados."
   ]
  },
  {
   "cell_type": "markdown",
   "metadata": {},
   "source": [
    "b. Como você avaliaria esse sistema de recomendação?"
   ]
  },
  {
   "cell_type": "markdown",
   "metadata": {},
   "source": [
    "c. Suponha que novos textos jurídicos sejam adicionados diariamente. Como você manteria o \n",
    "sistema de recomendação atualizado e garantiria que ele continue a fornece recomendações\n",
    "relevantes?"
   ]
  },
  {
   "cell_type": "markdown",
   "metadata": {},
   "source": [
    "### Exercício 2\n",
    "\n"
   ]
  },
  {
   "cell_type": "markdown",
   "metadata": {},
   "source": [
    "Suponha que você tenha uma tarefa específica de processamento de linguagem natural (PLN) para a\n",
    "qual deseja criar um modelo de alto desempenho. \n",
    "\n",
    "Você tem acesso a um modelo de linguagem pré-\n",
    "treinado e deseja realizar o fine-tuning desse modelo para sua tarefa específica."
   ]
  },
  {
   "cell_type": "markdown",
   "metadata": {},
   "source": []
  }
 ],
 "metadata": {
  "language_info": {
   "name": "python"
  }
 },
 "nbformat": 4,
 "nbformat_minor": 2
}
